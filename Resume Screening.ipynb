{
 "cells": [
  {
   "cell_type": "code",
   "execution_count": 84,
   "id": "048d3d77-5841-4a7d-99d6-ca5eb2826f6b",
   "metadata": {},
   "outputs": [],
   "source": [
    "import numpy as np\n",
    "import pandas as pd\n",
    "import matplotlib.pyplot as plt\n",
    "import seaborn as sns\n"
   ]
  },
  {
   "cell_type": "markdown",
   "id": "5a6a6471-bb81-4fd9-96c6-746c522a992f",
   "metadata": {},
   "source": [
    "## Load Dataset"
   ]
  },
  {
   "cell_type": "code",
   "execution_count": 85,
   "id": "e1ddd0d0-9ecb-44d9-8caf-a6aa627b3763",
   "metadata": {},
   "outputs": [],
   "source": [
    "df=pd.read_csv('UpdatedResumeDataSet.csv')"
   ]
  },
  {
   "cell_type": "code",
   "execution_count": 86,
   "id": "80b16400-6896-439c-8af1-a87123a1693a",
   "metadata": {},
   "outputs": [
    {
     "data": {
      "text/html": [
       "<div>\n",
       "<style scoped>\n",
       "    .dataframe tbody tr th:only-of-type {\n",
       "        vertical-align: middle;\n",
       "    }\n",
       "\n",
       "    .dataframe tbody tr th {\n",
       "        vertical-align: top;\n",
       "    }\n",
       "\n",
       "    .dataframe thead th {\n",
       "        text-align: right;\n",
       "    }\n",
       "</style>\n",
       "<table border=\"1\" class=\"dataframe\">\n",
       "  <thead>\n",
       "    <tr style=\"text-align: right;\">\n",
       "      <th></th>\n",
       "      <th>Category</th>\n",
       "      <th>Resume</th>\n",
       "    </tr>\n",
       "  </thead>\n",
       "  <tbody>\n",
       "    <tr>\n",
       "      <th>0</th>\n",
       "      <td>Data Science</td>\n",
       "      <td>Skills * Programming Languages: Python (pandas...</td>\n",
       "    </tr>\n",
       "    <tr>\n",
       "      <th>1</th>\n",
       "      <td>Data Science</td>\n",
       "      <td>Education Details \\r\\nMay 2013 to May 2017 B.E...</td>\n",
       "    </tr>\n",
       "    <tr>\n",
       "      <th>2</th>\n",
       "      <td>Data Science</td>\n",
       "      <td>Areas of Interest Deep Learning, Control Syste...</td>\n",
       "    </tr>\n",
       "    <tr>\n",
       "      <th>3</th>\n",
       "      <td>Data Science</td>\n",
       "      <td>Skills â¢ R â¢ Python â¢ SAP HANA â¢ Table...</td>\n",
       "    </tr>\n",
       "    <tr>\n",
       "      <th>4</th>\n",
       "      <td>Data Science</td>\n",
       "      <td>Education Details \\r\\n MCA   YMCAUST,  Faridab...</td>\n",
       "    </tr>\n",
       "  </tbody>\n",
       "</table>\n",
       "</div>"
      ],
      "text/plain": [
       "       Category                                             Resume\n",
       "0  Data Science  Skills * Programming Languages: Python (pandas...\n",
       "1  Data Science  Education Details \\r\\nMay 2013 to May 2017 B.E...\n",
       "2  Data Science  Areas of Interest Deep Learning, Control Syste...\n",
       "3  Data Science  Skills â¢ R â¢ Python â¢ SAP HANA â¢ Table...\n",
       "4  Data Science  Education Details \\r\\n MCA   YMCAUST,  Faridab..."
      ]
     },
     "execution_count": 86,
     "metadata": {},
     "output_type": "execute_result"
    }
   ],
   "source": [
    "df.head()"
   ]
  },
  {
   "cell_type": "code",
   "execution_count": 87,
   "id": "d9177d88-0f02-46c7-a951-95c630e195e8",
   "metadata": {},
   "outputs": [
    {
     "data": {
      "text/plain": [
       "(962, 2)"
      ]
     },
     "execution_count": 87,
     "metadata": {},
     "output_type": "execute_result"
    }
   ],
   "source": [
    "df.shape"
   ]
  },
  {
   "cell_type": "code",
   "execution_count": 88,
   "id": "ed34bc71-822e-4caa-bff8-daf0495f154e",
   "metadata": {},
   "outputs": [
    {
     "data": {
      "text/plain": [
       "<bound method DataFrame.info of          Category                                             Resume\n",
       "0    Data Science  Skills * Programming Languages: Python (pandas...\n",
       "1    Data Science  Education Details \\r\\nMay 2013 to May 2017 B.E...\n",
       "2    Data Science  Areas of Interest Deep Learning, Control Syste...\n",
       "3    Data Science  Skills â¢ R â¢ Python â¢ SAP HANA â¢ Table...\n",
       "4    Data Science  Education Details \\r\\n MCA   YMCAUST,  Faridab...\n",
       "..            ...                                                ...\n",
       "957       Testing  Computer Skills: â¢ Proficient in MS office (...\n",
       "958       Testing  â Willingness to accept the challenges. â ...\n",
       "959       Testing  PERSONAL SKILLS â¢ Quick learner, â¢ Eagerne...\n",
       "960       Testing  COMPUTER SKILLS & SOFTWARE KNOWLEDGE MS-Power ...\n",
       "961       Testing  Skill Set OS Windows XP/7/8/8.1/10 Database MY...\n",
       "\n",
       "[962 rows x 2 columns]>"
      ]
     },
     "execution_count": 88,
     "metadata": {},
     "output_type": "execute_result"
    }
   ],
   "source": [
    "df.info"
   ]
  },
  {
   "cell_type": "code",
   "execution_count": 89,
   "id": "3a649663-d2da-4542-a2f1-7b3ab21fa5a8",
   "metadata": {},
   "outputs": [
    {
     "data": {
      "text/html": [
       "<div>\n",
       "<style scoped>\n",
       "    .dataframe tbody tr th:only-of-type {\n",
       "        vertical-align: middle;\n",
       "    }\n",
       "\n",
       "    .dataframe tbody tr th {\n",
       "        vertical-align: top;\n",
       "    }\n",
       "\n",
       "    .dataframe thead th {\n",
       "        text-align: right;\n",
       "    }\n",
       "</style>\n",
       "<table border=\"1\" class=\"dataframe\">\n",
       "  <thead>\n",
       "    <tr style=\"text-align: right;\">\n",
       "      <th></th>\n",
       "      <th>Category</th>\n",
       "      <th>Resume</th>\n",
       "    </tr>\n",
       "  </thead>\n",
       "  <tbody>\n",
       "    <tr>\n",
       "      <th>count</th>\n",
       "      <td>962</td>\n",
       "      <td>962</td>\n",
       "    </tr>\n",
       "    <tr>\n",
       "      <th>unique</th>\n",
       "      <td>25</td>\n",
       "      <td>166</td>\n",
       "    </tr>\n",
       "    <tr>\n",
       "      <th>top</th>\n",
       "      <td>Java Developer</td>\n",
       "      <td>Technical Skills Web Technologies: Angular JS,...</td>\n",
       "    </tr>\n",
       "    <tr>\n",
       "      <th>freq</th>\n",
       "      <td>84</td>\n",
       "      <td>18</td>\n",
       "    </tr>\n",
       "  </tbody>\n",
       "</table>\n",
       "</div>"
      ],
      "text/plain": [
       "              Category                                             Resume\n",
       "count              962                                                962\n",
       "unique              25                                                166\n",
       "top     Java Developer  Technical Skills Web Technologies: Angular JS,...\n",
       "freq                84                                                 18"
      ]
     },
     "execution_count": 89,
     "metadata": {},
     "output_type": "execute_result"
    }
   ],
   "source": [
    "df.describe()"
   ]
  },
  {
   "cell_type": "code",
   "execution_count": 90,
   "id": "ec4727dc-1273-406f-a507-aad56b8d0afc",
   "metadata": {},
   "outputs": [
    {
     "data": {
      "text/plain": [
       "Category    0\n",
       "Resume      0\n",
       "dtype: int64"
      ]
     },
     "execution_count": 90,
     "metadata": {},
     "output_type": "execute_result"
    }
   ],
   "source": [
    "df.isnull().sum()"
   ]
  },
  {
   "cell_type": "markdown",
   "id": "30bd0c7f-c69c-45d6-b972-c10f7cc52c2c",
   "metadata": {},
   "source": [
    "## Exploring Categories"
   ]
  },
  {
   "cell_type": "code",
   "execution_count": 91,
   "id": "6527a616-185f-480b-92a0-e6aa997320c5",
   "metadata": {},
   "outputs": [
    {
     "name": "stdout",
     "output_type": "stream",
     "text": [
      "Displaying the distinct categories of resume:\n",
      " \n",
      "['Data Science' 'HR' 'Advocate' 'Arts' 'Web Designing'\n",
      " 'Mechanical Engineer' 'Sales' 'Health and fitness' 'Civil Engineer'\n",
      " 'Java Developer' 'Business Analyst' 'SAP Developer' 'Automation Testing'\n",
      " 'Electrical Engineering' 'Operations Manager' 'Python Developer'\n",
      " 'DevOps Engineer' 'Network Security Engineer' 'PMO' 'Database' 'Hadoop'\n",
      " 'ETL Developer' 'DotNet Developer' 'Blockchain' 'Testing']\n"
     ]
    }
   ],
   "source": [
    "print (\"Displaying the distinct categories of resume:\\n \")\n",
    "print (df['Category'].unique())"
   ]
  },
  {
   "cell_type": "code",
   "execution_count": 92,
   "id": "5b295360-9979-4878-a9b2-24b33c742064",
   "metadata": {},
   "outputs": [
    {
     "data": {
      "text/plain": [
       "Category\n",
       "Java Developer               84\n",
       "Testing                      70\n",
       "DevOps Engineer              55\n",
       "Python Developer             48\n",
       "Web Designing                45\n",
       "HR                           44\n",
       "Hadoop                       42\n",
       "Sales                        40\n",
       "Data Science                 40\n",
       "Mechanical Engineer          40\n",
       "ETL Developer                40\n",
       "Blockchain                   40\n",
       "Operations Manager           40\n",
       "Arts                         36\n",
       "Database                     33\n",
       "Health and fitness           30\n",
       "PMO                          30\n",
       "Electrical Engineering       30\n",
       "Business Analyst             28\n",
       "DotNet Developer             28\n",
       "Automation Testing           26\n",
       "Network Security Engineer    25\n",
       "Civil Engineer               24\n",
       "SAP Developer                24\n",
       "Advocate                     20\n",
       "Name: count, dtype: int64"
      ]
     },
     "execution_count": 92,
     "metadata": {},
     "output_type": "execute_result"
    }
   ],
   "source": [
    "df['Category'].value_counts()"
   ]
  },
  {
   "cell_type": "code",
   "execution_count": 93,
   "id": "5fcb9182-7293-44ea-bbeb-78aa76789b45",
   "metadata": {},
   "outputs": [
    {
     "data": {
      "image/png": "[encoded data removed]",
      "text/plain": [
       "<Figure size 1500x500 with 1 Axes>"
      ]
     },
     "metadata": {},
     "output_type": "display_data"
    }
   ],
   "source": [
    "plt.figure(figsize=(15, 5))\n",
    "plt.xticks(rotation=90)\n",
    "sns.countplot(x='Category', data=df)\n",
    "plt.show()\n"
   ]
  },
  {
   "cell_type": "code",
   "execution_count": 94,
   "id": "7557326f-2e5f-4728-92ce-3683a319fec5",
   "metadata": {},
   "outputs": [
    {
     "data": {
      "image/png": "[encoded data removed]",
      "text/plain": [
       "<Figure size 2500x1800 with 1 Axes>"
      ]
     },
     "metadata": {},
     "output_type": "display_data"
    }
   ],
   "source": [
    "from matplotlib.gridspec import GridSpec\n",
    "Counts = df['Category'].value_counts()\n",
    "Labels  = df['Category'].unique()\n",
    "\n",
    "plt.figure(1, figsize=(25,18))\n",
    "the_grid = GridSpec(2, 2)\n",
    "\n",
    "\n",
    "cmap = plt.get_cmap('plasma')\n",
    "plt.subplot(the_grid[0, 1], aspect=1, title='CATEGORY DISTRIBUTION')\n",
    "\n",
    "source_pie = plt.pie(Counts, labels=Labels, autopct='%1.1f%%')\n",
    "plt.show()"
   ]
  },
  {
   "cell_type": "markdown",
   "id": "d4e0497b-0fe4-4905-bf95-b486b458fd85",
   "metadata": {},
   "source": [
    "## Exploring Resume"
   ]
  },
  {
   "cell_type": "code",
   "execution_count": 95,
   "id": "23239f5c-7995-4742-ab1b-a973356a67d6",
   "metadata": {},
   "outputs": [
    {
     "data": {
      "text/plain": [
       "'Data Science'"
      ]
     },
     "execution_count": 95,
     "metadata": {},
     "output_type": "execute_result"
    }
   ],
   "source": [
    "df['Category'][0]"
   ]
  },
  {
   "cell_type": "code",
   "execution_count": 96,
   "id": "998c6161-3b2f-4ff1-b6eb-9250ccfe08d2",
   "metadata": {},
   "outputs": [
    {
     "data": {
      "text/plain": [
       "'Skills * Programming Languages: Python (pandas, numpy, scipy, scikit-learn, matplotlib), Sql, Java, JavaScript/JQuery. * Machine learning: Regression, SVM, NaÃ¯ve Bayes, KNN, Random Forest, Decision Trees, Boosting techniques, Cluster Analysis, Word Embedding, Sentiment Analysis, Natural Language processing, Dimensionality reduction, Topic Modelling (LDA, NMF), PCA & Neural Nets. * Database Visualizations: Mysql, SqlServer, Cassandra, Hbase, ElasticSearch D3.js, DC.js, Plotly, kibana, matplotlib, ggplot, Tableau. * Others: Regular Expression, HTML, CSS, Angular 6, Logstash, Kafka, Python Flask, Git, Docker, computer vision - Open CV and understanding of Deep learning.Education Details \\r\\n\\r\\nData Science Assurance Associate \\r\\n\\r\\nData Science Assurance Associate - Ernst & Young LLP\\r\\nSkill Details \\r\\nJAVASCRIPT- Exprience - 24 months\\r\\njQuery- Exprience - 24 months\\r\\nPython- Exprience - 24 monthsCompany Details \\r\\ncompany - Ernst & Young LLP\\r\\ndescription - Fraud Investigations and Dispute Services   Assurance\\r\\nTECHNOLOGY ASSISTED REVIEW\\r\\nTAR (Technology Assisted Review) assists in accelerating the review process and run analytics and generate reports.\\r\\n* Core member of a team helped in developing automated review platform tool from scratch for assisting E discovery domain, this tool implements predictive coding and topic modelling by automating reviews, resulting in reduced labor costs and time spent during the lawyers review.\\r\\n* Understand the end to end flow of the solution, doing research and development for classification models, predictive analysis and mining of the information present in text data. Worked on analyzing the outputs and precision monitoring for the entire tool.\\r\\n* TAR assists in predictive coding, topic modelling from the evidence by following EY standards. Developed the classifier models in order to identify \"red flags\" and fraud-related issues.\\r\\n\\r\\nTools & Technologies: Python, scikit-learn, tfidf, word2vec, doc2vec, cosine similarity, NaÃ¯ve Bayes, LDA, NMF for topic modelling, Vader and text blob for sentiment analysis. Matplot lib, Tableau dashboard for reporting.\\r\\n\\r\\nMULTIPLE DATA SCIENCE AND ANALYTIC PROJECTS (USA CLIENTS)\\r\\nTEXT ANALYTICS - MOTOR VEHICLE CUSTOMER REVIEW DATA * Received customer feedback survey data for past one year. Performed sentiment (Positive, Negative & Neutral) and time series analysis on customer comments across all 4 categories.\\r\\n* Created heat map of terms by survey category based on frequency of words * Extracted Positive and Negative words across all the Survey categories and plotted Word cloud.\\r\\n* Created customized tableau dashboards for effective reporting and visualizations.\\r\\nCHATBOT * Developed a user friendly chatbot for one of our Products which handle simple questions about hours of operation, reservation options and so on.\\r\\n* This chat bot serves entire product related questions. Giving overview of tool via QA platform and also give recommendation responses so that user question to build chain of relevant answer.\\r\\n* This too has intelligence to build the pipeline of questions as per user requirement and asks the relevant /recommended questions.\\r\\n\\r\\nTools & Technologies: Python, Natural language processing, NLTK, spacy, topic modelling, Sentiment analysis, Word Embedding, scikit-learn, JavaScript/JQuery, SqlServer\\r\\n\\r\\nINFORMATION GOVERNANCE\\r\\nOrganizations to make informed decisions about all of the information they store. The integrated Information Governance portfolio synthesizes intelligence across unstructured data sources and facilitates action to ensure organizations are best positioned to counter information risk.\\r\\n* Scan data from multiple sources of formats and parse different file formats, extract Meta data information, push results for indexing elastic search and created customized, interactive dashboards using kibana.\\r\\n* Preforming ROT Analysis on the data which give information of data which helps identify content that is either Redundant, Outdated, or Trivial.\\r\\n* Preforming full-text search analysis on elastic search with predefined methods which can tag as (PII) personally identifiable information (social security numbers, addresses, names, etc.) which frequently targeted during cyber-attacks.\\r\\nTools & Technologies: Python, Flask, Elastic Search, Kibana\\r\\n\\r\\nFRAUD ANALYTIC PLATFORM\\r\\nFraud Analytics and investigative platform to review all red flag cases.\\r\\nâ\\x80¢ FAP is a Fraud Analytics and investigative platform with inbuilt case manager and suite of Analytics for various ERP systems.\\r\\n* It can be used by clients to interrogate their Accounting systems for identifying the anomalies which can be indicators of fraud by running advanced analytics\\r\\nTools & Technologies: HTML, JavaScript, SqlServer, JQuery, CSS, Bootstrap, Node.js, D3.js, DC.js'"
      ]
     },
     "execution_count": 96,
     "metadata": {},
     "output_type": "execute_result"
    }
   ],
   "source": [
    "df['Resume'][0]"
   ]
  },
  {
   "cell_type": "markdown",
   "id": "9a3d6246-6145-4add-9189-32e2223f3569",
   "metadata": {},
   "source": [
    "## Balance Categories"
   ]
  },
  {
   "cell_type": "code",
   "execution_count": 97,
   "id": "d53d5ec3-45a1-47ea-a6f6-cb67ded208e9",
   "metadata": {},
   "outputs": [
    {
     "name": "stdout",
     "output_type": "stream",
     "text": [
      "Original Category Distribution:\n",
      "Category\n",
      "Java Developer               84\n",
      "Testing                      70\n",
      "DevOps Engineer              55\n",
      "Python Developer             48\n",
      "Web Designing                45\n",
      "HR                           44\n",
      "Hadoop                       42\n",
      "Sales                        40\n",
      "Data Science                 40\n",
      "Mechanical Engineer          40\n",
      "ETL Developer                40\n",
      "Blockchain                   40\n",
      "Operations Manager           40\n",
      "Arts                         36\n",
      "Database                     33\n",
      "Health and fitness           30\n",
      "PMO                          30\n",
      "Electrical Engineering       30\n",
      "Business Analyst             28\n",
      "DotNet Developer             28\n",
      "Automation Testing           26\n",
      "Network Security Engineer    25\n",
      "Civil Engineer               24\n",
      "SAP Developer                24\n",
      "Advocate                     20\n",
      "Name: count, dtype: int64\n",
      "\n",
      "Balanced Category Distribution (After Oversampling):\n",
      "Category\n",
      "Automation Testing           84\n",
      "Sales                        84\n",
      "Mechanical Engineer          84\n",
      "Electrical Engineering       84\n",
      "DevOps Engineer              84\n",
      "Arts                         84\n",
      "Hadoop                       84\n",
      "ETL Developer                84\n",
      "Civil Engineer               84\n",
      "PMO                          84\n",
      "Network Security Engineer    84\n",
      "Health and fitness           84\n",
      "Operations Manager           84\n",
      "Database                     84\n",
      "Advocate                     84\n",
      "Python Developer             84\n",
      "HR                           84\n",
      "Data Science                 84\n",
      "Business Analyst             84\n",
      "Web Designing                84\n",
      "Java Developer               84\n",
      "SAP Developer                84\n",
      "DotNet Developer             84\n",
      "Blockchain                   84\n",
      "Testing                      84\n",
      "Name: count, dtype: int64\n"
     ]
    },
    {
     "name": "stderr",
     "output_type": "stream",
     "text": [
      "C:\\Users\\kparo\\AppData\\Local\\Temp\\ipykernel_21908\\1665345931.py:9: FutureWarning: DataFrameGroupBy.apply operated on the grouping columns. This behavior is deprecated, and in a future version of pandas the grouping columns will be excluded from the operation. Either pass `include_groups=False` to exclude the groupings or explicitly select the grouping columns after groupby to silence this warning.\n",
      "  balanced_df = df.groupby('Category').apply(lambda x: x.sample(max_size, replace=True)).reset_index(drop=True)\n"
     ]
    }
   ],
   "source": [
    "# Check the original category distribution\n",
    "print(\"Original Category Distribution:\")\n",
    "print(df['Category'].value_counts())\n",
    "\n",
    "# Get the largest category size (i.e., the category with the maximum number of entries)\n",
    "max_size = df['Category'].value_counts().max()\n",
    "\n",
    "# Perform oversampling\n",
    "balanced_df = df.groupby('Category').apply(lambda x: x.sample(max_size, replace=True)).reset_index(drop=True)\n",
    "\n",
    "# Shuffle the dataset to avoid any order bias\n",
    "df = balanced_df.sample(frac=1).reset_index(drop=True)\n",
    "\n",
    "# Check the balanced category distribution\n",
    "print(\"\\nBalanced Category Distribution (After Oversampling):\")\n",
    "print(df['Category'].value_counts())"
   ]
  },
  {
   "cell_type": "markdown",
   "id": "ac01a74d-80ea-4594-afe9-cf4ed1745aba",
   "metadata": {},
   "source": [
    "## Cleaning Data\n",
    "1. URLs\n",
    "2. Hashtags\n",
    "3. Mentions\n",
    "4. Special Letters\n",
    "5. Punct"
   ]
  },
  {
   "cell_type": "code",
   "execution_count": 98,
   "id": "086cb489-a97f-4edb-93ad-fbd1bdf73334",
   "metadata": {},
   "outputs": [],
   "source": [
    "import re\n",
    "\n",
    "def clean_text(text):\n",
    "\n",
    "    text = re.sub(r'http\\S+', ' ', text)\n",
    "    text = re.sub(r'\\S+@\\S+', ' ', text)\n",
    "    text = re.sub(r'RT|cc', ' ', text)\n",
    "    text = re.sub(r'[!\"#$%&\\'()*+,\\-./:;<=>?@\\[\\]^_`{|}~]', ' ', text)\n",
    "    text = re.sub(r'\\s+', ' ', text).strip()\n",
    "\n",
    "    return text\n",
    "\n"
   ]
  },
  {
   "cell_type": "code",
   "execution_count": 99,
   "id": "17dabc28-f398-43ef-8a58-458cf6c9be5a",
   "metadata": {},
   "outputs": [],
   "source": [
    "df['Resume']=df['Resume'].apply(lambda x:cleanResume(x))"
   ]
  },
  {
   "cell_type": "code",
   "execution_count": 100,
   "id": "8c5d7c49-e949-4a4b-9a0a-c99bcbf7f1b8",
   "metadata": {},
   "outputs": [
    {
     "data": {
      "text/plain": [
       "'SKILLS Agile Methodology Scrum Kanban Extreme Programming XP Test driven development TDD and Feature Driven development FDD Domain Industrial Automation Retail Banking Insurance Health care Automation Framework Modular Data driven BPT Hybrid Test automation tool HP UFT TAF Load Runner Selenium Rational Robot DCMTK sikuli languages VB Script C Python Shell Script Bug Tracking Tool Bugzilla Jira HP Quality Control AP Test Clear Quest Version management Clear case Win CVS SVN Database Oracle SQL server MySQL Network Protocols TCP IP HTTP HTTPS VPN FTP LDAP Healthcare DICOM PACS HL7 Image Archiving Image reconstruction Rockwell Automation Logix Designer Factory Talk RSLinx Classic Control Flash Compare Tool I O modules and Profiles Education Details Bachelor of Science Computer Science Mumbai Maharashtra Mumbai University QA Automation Lead QA Automation Lead Skill Details C Exprience 63 months PYTHON Exprience 109 months UFT Exprience 85 months SELENIUM Exprience 85 months SQL Exprience 69 monthsCompany Details company Leading Industrial Automation description Responsibilities Test Rockwell Automation embedded systems such as Logix Designer Factory Talk RSLinx Classic Control Flash Compare Tool I O modules and Profiles Coordinate with Onsite and Offshore QA leads to design and develop test strategy and test plan Document test plan and test cases base on product Requirement Document and functional specification Discussed and explained the requirement to QA team Work in Scrum base Agile Methodology and Test Driven development environment with frequent changing requirements and lots of challenges Document and Published Program Increment Objectives Program Increment planning report Feature Epics Backlog and Stories Conduct and Participated in Program Increment Planning Backlog Grooming Sprint Planning Daily Stand Ups Sprint Review and Retrospective Perform Automation testing tasks such as Design Create Maintain Execute and peer review test scripts using Test Automation Framework TAF Develop and Execute System integration and GUI integration test using C Interact with Business Analysts and Software Developers for bug review and participated in QA meetings Work closely with development and engineering department to ensure proper resolution of bugs Proactively came up with innovative methods to improve software quality test coverage efficiency and regression coverage Created and Maintained testing documents such as High Level Requirement Test strategy report Test plan Test cases Test execution results Bug report Quality Metrics Traceability Matrix and Testing Summary Reports Environment Logix Designer Factory Talk RSLinx Classic ControlFlash CompareTool I O modules Profiles Test Automation Framework TAF C Python Selenium Clear Case Clear Quest UFT Collaborative Lifecycle Management and Version one company GE Healthcare description Responsibilities Validated GE CT scanners based on FDA compliances and regulations Interacted with Clinical experts Business Analysts and Development architect for creation of test strategy and test plan Coordinated with the Offshore QA and Onsite QA team to work on design and develop of test strategies and requirement traceability matrix Designed Created and executed manual test cases base on product requirement documents Increased productivity by initiating use of automation tools like DICOM and QTP Trained and guided GE team on automation test creation and execution using QTP Performed testing types such as functional integration performance and regression and Provide test reports to management Involved in release support test bed creation testing throughout release process Environment Agile Test driven development TDD DICOM HL7 Image reconstruction Windows Linux SQL C Python QTP HTML XML QTP VBScripts and QC company Patni GE Healthcare PACS description Responsibilities Validated GE PACS application and tested web application defined for Administration Authentication and Archiving of DICOM images Involved in the creation of Automation framework by using Hybrid and BPT approach Responsible for creation of Test Bed and Golden Data using DCMTK Prepared the Test Scenarios Test plan Test cases and Automation Scripts for Integration System and End to End testing on all applications Designed and developed User defined and Generic functions with well versed VB scripting Descriptive programming in scripting dynamic objects and reusable actions in defining scenario flows in UFT QTP Reviewed the QTP Scripts developed by the team members Supported the QA SIT and Regression testing team for environmental issues and Interact with other downstream environment system team for the clarifications Environment Agile Test driven development TDD GE PACS DICOM HL7 Image reconstruction Image Construction Windows Linux SQL C Python Selenium QTP HTML XML QTP JavaScript VBScripts and QC company HDFC Bank Limited description Responsibilities Reviewed Business requirements design documents and prepared test cases for assigned project releases Performed testing types such as API functional integration System performance regression security and network Provide test reports to management Involved in integration testing for release of new functionality Testing critical bug s fixes and co ordinate with developer in fixing these critical bugs Involved in backend database testing in oracle and Microsoft SQL Involved in release support test bed setup testing throughout release process Automation of test flow s using automated tools QTP 10 Environment Windows Linux SQL C Python QTP HTML XML QTP JavaScript VBScripts and QC company Vistaar Systems Limited description Responsibilities Referred Business requirements documents Use case documents and Design documents provided by client and developer for creation of Manual and Automation test cases Involved in Analysis Design Creation Execution and Debugging of automation scripts using automation tools like Rational Robot QTP and Shell scripting Testing critical bug s fixes and co ordinate with developer in fixing these critical bugs Involved in Installation of build Maintaining test bed Smoke and Sanitary testing Regression testing Performance testing and Database testing using Rational Robot QTP and Shell scripting Environment Windows Linux SQL Rational Robot V2002 and QTP V 9 2'"
      ]
     },
     "execution_count": 100,
     "metadata": {},
     "output_type": "execute_result"
    }
   ],
   "source": [
    "df['Resume'][0]"
   ]
  },
  {
   "cell_type": "markdown",
   "id": "bc517084-ea52-4431-a504-66ebac9f62ab",
   "metadata": {},
   "source": [
    "## Word into Categorical values"
   ]
  },
  {
   "cell_type": "code",
   "execution_count": 102,
   "id": "fecfb465-4750-43cc-aabc-a56f566efc1a",
   "metadata": {},
   "outputs": [],
   "source": [
    "from sklearn.preprocessing import LabelEncoder\n",
    "le = LabelEncoder()"
   ]
  },
  {
   "cell_type": "code",
   "execution_count": 103,
   "id": "081f28f9-eb93-4d35-a4b6-7321a685540b",
   "metadata": {},
   "outputs": [],
   "source": [
    "\n",
    "le.fit(df['Category'])\n",
    "df['Category'] = le.transform(df['Category'])"
   ]
  },
  {
   "cell_type": "code",
   "execution_count": null,
   "id": "1945c3f3-ccee-4c63-b66c-bee139ba1e94",
   "metadata": {},
   "outputs": [],
   "source": [
    "# ['Data Science', 'HR', 'Advocate', 'Arts', 'Web Designing',\n",
    "#        'Mechanical Engineer', 'Sales', 'Health and fitness',\n",
    "#        'Civil Engineer', 'Java Developer', 'Business Analyst',\n",
    "#        'SAP Developer', 'Automation Testing', 'Electrical Engineering',\n",
    "#        'Operations Manager', 'Python Developer', 'DevOps Engineer',\n",
    "#        'Network Security Engineer', 'PMO', 'Database', 'Hadoop',\n",
    "#        'ETL Developer', 'DotNet Developer', 'Blockchain', 'Testing'],\n",
    "#       dtype=object)"
   ]
  },
  {
   "cell_type": "markdown",
   "id": "8d79a0e7-ba1b-4f45-a5a5-c0c6dc085820",
   "metadata": {},
   "source": [
    "## Vectorization"
   ]
  },
  {
   "cell_type": "code",
   "execution_count": 104,
   "id": "0a332f23-bf11-42ab-b7ff-f0c9c1e98648",
   "metadata": {},
   "outputs": [],
   "source": [
    "from sklearn.feature_extraction.text import TfidfVectorizer\n",
    "tfidf = TfidfVectorizer(stop_words='english')\n",
    "\n",
    "tfidf.fit(df['Resume'])\n",
    "requredTaxt  = tfidf.transform(df['Resume'])"
   ]
  },
  {
   "cell_type": "markdown",
   "id": "54e2cfb3-397e-4704-bca3-0ffa07301165",
   "metadata": {},
   "source": [
    "## Splitting"
   ]
  },
  {
   "cell_type": "code",
   "execution_count": 105,
   "id": "ee9cc367-91fc-43c0-a8b4-fcf4fd2de33d",
   "metadata": {},
   "outputs": [],
   "source": [
    "from sklearn.model_selection import train_test_split"
   ]
  },
  {
   "cell_type": "code",
   "execution_count": 106,
   "id": "a9afbd9e-f350-4ddd-a909-0899605a28f1",
   "metadata": {},
   "outputs": [],
   "source": [
    "X_train, X_test, y_train, y_test = train_test_split(requredTaxt, df['Category'], test_size=0.2, random_state=42)"
   ]
  },
  {
   "cell_type": "code",
   "execution_count": 107,
   "id": "7727eb78-5682-4cf9-aab9-a9d12a834647",
   "metadata": {},
   "outputs": [
    {
     "data": {
      "text/plain": [
       "(1680, 7251)"
      ]
     },
     "execution_count": 107,
     "metadata": {},
     "output_type": "execute_result"
    }
   ],
   "source": [
    "X_train.shape"
   ]
  },
  {
   "cell_type": "code",
   "execution_count": 108,
   "id": "20b128cf-b2dc-40fc-a665-d7fc85c2f2eb",
   "metadata": {},
   "outputs": [
    {
     "data": {
      "text/plain": [
       "(420, 7251)"
      ]
     },
     "execution_count": 108,
     "metadata": {},
     "output_type": "execute_result"
    }
   ],
   "source": [
    "X_test.shape"
   ]
  },
  {
   "cell_type": "markdown",
   "id": "28f9e848-1a14-469c-a453-20c2dab9fa43",
   "metadata": {},
   "source": [
    "## Now let’s train the model and print the classification report:"
   ]
  },
  {
   "cell_type": "code",
   "execution_count": 109,
   "id": "e2facb57-a330-4477-9417-072619949794",
   "metadata": {},
   "outputs": [
    {
     "name": "stdout",
     "output_type": "stream",
     "text": [
      "\n",
      "KNeighborsClassifier Results:\n",
      "Accuracy: 1.0000\n",
      "Confusion Matrix:\n",
      "[[20  0  0  0  0  0  0  0  0  0  0  0  0  0  0  0  0  0  0  0  0  0  0  0\n",
      "   0]\n",
      " [ 0 26  0  0  0  0  0  0  0  0  0  0  0  0  0  0  0  0  0  0  0  0  0  0\n",
      "   0]\n",
      " [ 0  0 15  0  0  0  0  0  0  0  0  0  0  0  0  0  0  0  0  0  0  0  0  0\n",
      "   0]\n",
      " [ 0  0  0 19  0  0  0  0  0  0  0  0  0  0  0  0  0  0  0  0  0  0  0  0\n",
      "   0]\n",
      " [ 0  0  0  0 21  0  0  0  0  0  0  0  0  0  0  0  0  0  0  0  0  0  0  0\n",
      "   0]\n",
      " [ 0  0  0  0  0 16  0  0  0  0  0  0  0  0  0  0  0  0  0  0  0  0  0  0\n",
      "   0]\n",
      " [ 0  0  0  0  0  0 19  0  0  0  0  0  0  0  0  0  0  0  0  0  0  0  0  0\n",
      "   0]\n",
      " [ 0  0  0  0  0  0  0 22  0  0  0  0  0  0  0  0  0  0  0  0  0  0  0  0\n",
      "   0]\n",
      " [ 0  0  0  0  0  0  0  0 12  0  0  0  0  0  0  0  0  0  0  0  0  0  0  0\n",
      "   0]\n",
      " [ 0  0  0  0  0  0  0  0  0 19  0  0  0  0  0  0  0  0  0  0  0  0  0  0\n",
      "   0]\n",
      " [ 0  0  0  0  0  0  0  0  0  0 20  0  0  0  0  0  0  0  0  0  0  0  0  0\n",
      "   0]\n",
      " [ 0  0  0  0  0  0  0  0  0  0  0  9  0  0  0  0  0  0  0  0  0  0  0  0\n",
      "   0]\n",
      " [ 0  0  0  0  0  0  0  0  0  0  0  0 19  0  0  0  0  0  0  0  0  0  0  0\n",
      "   0]\n",
      " [ 0  0  0  0  0  0  0  0  0  0  0  0  0 11  0  0  0  0  0  0  0  0  0  0\n",
      "   0]\n",
      " [ 0  0  0  0  0  0  0  0  0  0  0  0  0  0 20  0  0  0  0  0  0  0  0  0\n",
      "   0]\n",
      " [ 0  0  0  0  0  0  0  0  0  0  0  0  0  0  0 18  0  0  0  0  0  0  0  0\n",
      "   0]\n",
      " [ 0  0  0  0  0  0  0  0  0  0  0  0  0  0  0  0 18  0  0  0  0  0  0  0\n",
      "   0]\n",
      " [ 0  0  0  0  0  0  0  0  0  0  0  0  0  0  0  0  0 13  0  0  0  0  0  0\n",
      "   0]\n",
      " [ 0  0  0  0  0  0  0  0  0  0  0  0  0  0  0  0  0  0 19  0  0  0  0  0\n",
      "   0]\n",
      " [ 0  0  0  0  0  0  0  0  0  0  0  0  0  0  0  0  0  0  0 14  0  0  0  0\n",
      "   0]\n",
      " [ 0  0  0  0  0  0  0  0  0  0  0  0  0  0  0  0  0  0  0  0 12  0  0  0\n",
      "   0]\n",
      " [ 0  0  0  0  0  0  0  0  0  0  0  0  0  0  0  0  0  0  0  0  0 15  0  0\n",
      "   0]\n",
      " [ 0  0  0  0  0  0  0  0  0  0  0  0  0  0  0  0  0  0  0  0  0  0 14  0\n",
      "   0]\n",
      " [ 0  0  0  0  0  0  0  0  0  0  0  0  0  0  0  0  0  0  0  0  0  0  0 14\n",
      "   0]\n",
      " [ 0  0  0  0  0  0  0  0  0  0  0  0  0  0  0  0  0  0  0  0  0  0  0  0\n",
      "  15]]\n",
      "Classification Report:\n",
      "              precision    recall  f1-score   support\n",
      "\n",
      "           0       1.00      1.00      1.00        20\n",
      "           1       1.00      1.00      1.00        26\n",
      "           2       1.00      1.00      1.00        15\n",
      "           3       1.00      1.00      1.00        19\n",
      "           4       1.00      1.00      1.00        21\n",
      "           5       1.00      1.00      1.00        16\n",
      "           6       1.00      1.00      1.00        19\n",
      "           7       1.00      1.00      1.00        22\n",
      "           8       1.00      1.00      1.00        12\n",
      "           9       1.00      1.00      1.00        19\n",
      "          10       1.00      1.00      1.00        20\n",
      "          11       1.00      1.00      1.00         9\n",
      "          12       1.00      1.00      1.00        19\n",
      "          13       1.00      1.00      1.00        11\n",
      "          14       1.00      1.00      1.00        20\n",
      "          15       1.00      1.00      1.00        18\n",
      "          16       1.00      1.00      1.00        18\n",
      "          17       1.00      1.00      1.00        13\n",
      "          18       1.00      1.00      1.00        19\n",
      "          19       1.00      1.00      1.00        14\n",
      "          20       1.00      1.00      1.00        12\n",
      "          21       1.00      1.00      1.00        15\n",
      "          22       1.00      1.00      1.00        14\n",
      "          23       1.00      1.00      1.00        14\n",
      "          24       1.00      1.00      1.00        15\n",
      "\n",
      "    accuracy                           1.00       420\n",
      "   macro avg       1.00      1.00      1.00       420\n",
      "weighted avg       1.00      1.00      1.00       420\n",
      "\n"
     ]
    }
   ],
   "source": [
    "from sklearn.neighbors import KNeighborsClassifier\n",
    "from sklearn.svm import SVC\n",
    "from sklearn.ensemble import RandomForestClassifier\n",
    "from sklearn.linear_model import LogisticRegression\n",
    "from sklearn.naive_bayes import GaussianNB\n",
    "from sklearn.multiclass import OneVsRestClassifier\n",
    "from sklearn.metrics import accuracy_score, confusion_matrix, classification_report\n",
    "\n",
    "# Ensure that X_train and X_test are dense if they are sparse\n",
    "X_train = X_train.toarray() if hasattr(X_train, 'toarray') else X_train\n",
    "X_test = X_test.toarray() if hasattr(X_test, 'toarray') else X_test\n",
    "\n",
    "# 1. Train KNeighborsClassifier\n",
    "knn_model = OneVsRestClassifier(KNeighborsClassifier())\n",
    "knn_model.fit(X_train, y_train)\n",
    "y_pred_knn = knn_model.predict(X_test)\n",
    "print(\"\\nKNeighborsClassifier Results:\")\n",
    "print(f\"Accuracy: {accuracy_score(y_test, y_pred_knn):.4f}\")\n",
    "print(f\"Confusion Matrix:\\n{confusion_matrix(y_test, y_pred_knn)}\")\n",
    "print(f\"Classification Report:\\n{classification_report(y_test, y_pred_knn)}\")"
   ]
  },
  {
   "cell_type": "code",
   "execution_count": 110,
   "id": "644abb65-6540-40a8-b73f-65ae0f9950b9",
   "metadata": {},
   "outputs": [
    {
     "name": "stdout",
     "output_type": "stream",
     "text": [
      "\n",
      "SVC Results:\n",
      "Accuracy: 1.0000\n",
      "Confusion Matrix:\n",
      "[[20  0  0  0  0  0  0  0  0  0  0  0  0  0  0  0  0  0  0  0  0  0  0  0\n",
      "   0]\n",
      " [ 0 26  0  0  0  0  0  0  0  0  0  0  0  0  0  0  0  0  0  0  0  0  0  0\n",
      "   0]\n",
      " [ 0  0 15  0  0  0  0  0  0  0  0  0  0  0  0  0  0  0  0  0  0  0  0  0\n",
      "   0]\n",
      " [ 0  0  0 19  0  0  0  0  0  0  0  0  0  0  0  0  0  0  0  0  0  0  0  0\n",
      "   0]\n",
      " [ 0  0  0  0 21  0  0  0  0  0  0  0  0  0  0  0  0  0  0  0  0  0  0  0\n",
      "   0]\n",
      " [ 0  0  0  0  0 16  0  0  0  0  0  0  0  0  0  0  0  0  0  0  0  0  0  0\n",
      "   0]\n",
      " [ 0  0  0  0  0  0 19  0  0  0  0  0  0  0  0  0  0  0  0  0  0  0  0  0\n",
      "   0]\n",
      " [ 0  0  0  0  0  0  0 22  0  0  0  0  0  0  0  0  0  0  0  0  0  0  0  0\n",
      "   0]\n",
      " [ 0  0  0  0  0  0  0  0 12  0  0  0  0  0  0  0  0  0  0  0  0  0  0  0\n",
      "   0]\n",
      " [ 0  0  0  0  0  0  0  0  0 19  0  0  0  0  0  0  0  0  0  0  0  0  0  0\n",
      "   0]\n",
      " [ 0  0  0  0  0  0  0  0  0  0 20  0  0  0  0  0  0  0  0  0  0  0  0  0\n",
      "   0]\n",
      " [ 0  0  0  0  0  0  0  0  0  0  0  9  0  0  0  0  0  0  0  0  0  0  0  0\n",
      "   0]\n",
      " [ 0  0  0  0  0  0  0  0  0  0  0  0 19  0  0  0  0  0  0  0  0  0  0  0\n",
      "   0]\n",
      " [ 0  0  0  0  0  0  0  0  0  0  0  0  0 11  0  0  0  0  0  0  0  0  0  0\n",
      "   0]\n",
      " [ 0  0  0  0  0  0  0  0  0  0  0  0  0  0 20  0  0  0  0  0  0  0  0  0\n",
      "   0]\n",
      " [ 0  0  0  0  0  0  0  0  0  0  0  0  0  0  0 18  0  0  0  0  0  0  0  0\n",
      "   0]\n",
      " [ 0  0  0  0  0  0  0  0  0  0  0  0  0  0  0  0 18  0  0  0  0  0  0  0\n",
      "   0]\n",
      " [ 0  0  0  0  0  0  0  0  0  0  0  0  0  0  0  0  0 13  0  0  0  0  0  0\n",
      "   0]\n",
      " [ 0  0  0  0  0  0  0  0  0  0  0  0  0  0  0  0  0  0 19  0  0  0  0  0\n",
      "   0]\n",
      " [ 0  0  0  0  0  0  0  0  0  0  0  0  0  0  0  0  0  0  0 14  0  0  0  0\n",
      "   0]\n",
      " [ 0  0  0  0  0  0  0  0  0  0  0  0  0  0  0  0  0  0  0  0 12  0  0  0\n",
      "   0]\n",
      " [ 0  0  0  0  0  0  0  0  0  0  0  0  0  0  0  0  0  0  0  0  0 15  0  0\n",
      "   0]\n",
      " [ 0  0  0  0  0  0  0  0  0  0  0  0  0  0  0  0  0  0  0  0  0  0 14  0\n",
      "   0]\n",
      " [ 0  0  0  0  0  0  0  0  0  0  0  0  0  0  0  0  0  0  0  0  0  0  0 14\n",
      "   0]\n",
      " [ 0  0  0  0  0  0  0  0  0  0  0  0  0  0  0  0  0  0  0  0  0  0  0  0\n",
      "  15]]\n",
      "Classification Report:\n",
      "              precision    recall  f1-score   support\n",
      "\n",
      "           0       1.00      1.00      1.00        20\n",
      "           1       1.00      1.00      1.00        26\n",
      "           2       1.00      1.00      1.00        15\n",
      "           3       1.00      1.00      1.00        19\n",
      "           4       1.00      1.00      1.00        21\n",
      "           5       1.00      1.00      1.00        16\n",
      "           6       1.00      1.00      1.00        19\n",
      "           7       1.00      1.00      1.00        22\n",
      "           8       1.00      1.00      1.00        12\n",
      "           9       1.00      1.00      1.00        19\n",
      "          10       1.00      1.00      1.00        20\n",
      "          11       1.00      1.00      1.00         9\n",
      "          12       1.00      1.00      1.00        19\n",
      "          13       1.00      1.00      1.00        11\n",
      "          14       1.00      1.00      1.00        20\n",
      "          15       1.00      1.00      1.00        18\n",
      "          16       1.00      1.00      1.00        18\n",
      "          17       1.00      1.00      1.00        13\n",
      "          18       1.00      1.00      1.00        19\n",
      "          19       1.00      1.00      1.00        14\n",
      "          20       1.00      1.00      1.00        12\n",
      "          21       1.00      1.00      1.00        15\n",
      "          22       1.00      1.00      1.00        14\n",
      "          23       1.00      1.00      1.00        14\n",
      "          24       1.00      1.00      1.00        15\n",
      "\n",
      "    accuracy                           1.00       420\n",
      "   macro avg       1.00      1.00      1.00       420\n",
      "weighted avg       1.00      1.00      1.00       420\n",
      "\n"
     ]
    }
   ],
   "source": [
    "\n",
    "# 2. Train SVC\n",
    "svc_model = OneVsRestClassifier(SVC())\n",
    "svc_model.fit(X_train, y_train)\n",
    "y_pred_svc = svc_model.predict(X_test)\n",
    "print(\"\\nSVC Results:\")\n",
    "print(f\"Accuracy: {accuracy_score(y_test, y_pred_svc):.4f}\")\n",
    "print(f\"Confusion Matrix:\\n{confusion_matrix(y_test, y_pred_svc)}\")\n",
    "print(f\"Classification Report:\\n{classification_report(y_test, y_pred_svc)}\")"
   ]
  },
  {
   "cell_type": "code",
   "execution_count": null,
   "id": "46020c35-dc2b-48e5-b9a9-c4f25cbc21ed",
   "metadata": {},
   "outputs": [],
   "source": [
    "# 3. Train RandomForestClassifier\n",
    "rf_model = OneVsRestClassifier(RandomForestClassifier())\n",
    "rf_model.fit(X_train, y_train)\n",
    "y_pred_rf = rf_model.predict(X_test)\n",
    "print(\"\\nRandomForestClassifier Results:\")\n",
    "print(f\"Accuracy: {accuracy_score(y_test, y_pred_rf):.4f}\")\n",
    "print(f\"Confusion Matrix:\\n{confusion_matrix(y_test, y_pred_rf)}\")\n",
    "print(f\"Classification Report:\\n{classification_report(y_test, y_pred_rf)}\")"
   ]
  },
  {
   "cell_type": "markdown",
   "id": "1fa060ee-28cd-4a11-bd85-905d057ae8c6",
   "metadata": {},
   "source": [
    "## Save Files"
   ]
  },
  {
   "cell_type": "code",
   "execution_count": 111,
   "id": "cbe91cea-5526-45d1-a62e-6c32d037e55d",
   "metadata": {},
   "outputs": [],
   "source": [
    "import pickle\n",
    "pickle.dump(tfidf,open('tfidf.pkl','wb'))\n",
    "pickle.dump(svc_model, open('clf.pkl', 'wb'))\n",
    "pickle.dump(le, open(\"encoder.pkl\",'wb'))"
   ]
  },
  {
   "cell_type": "markdown",
   "id": "e3e74e70-7427-4017-bfc4-f6fdafd835a6",
   "metadata": {},
   "source": [
    "## Prediction System"
   ]
  },
  {
   "cell_type": "code",
   "execution_count": 112,
   "id": "37820559-c97d-4a3a-ba94-84ac049c61f3",
   "metadata": {},
   "outputs": [],
   "source": [
    "\n",
    "# Function to predict the category of a resume\n",
    "def pred(input_resume):\n",
    "    # Preprocess the input text (e.g., cleaning, etc.)\n",
    "    cleaned_text = cleanResume(input_resume) \n",
    "\n",
    "    # Vectorize the cleaned text using the same TF-IDF vectorizer used during training\n",
    "    vectorized_text = tfidf.transform([cleaned_text])\n",
    "    \n",
    "    # Convert sparse matrix to dense\n",
    "    vectorized_text = vectorized_text.toarray()\n",
    "\n",
    "    # Prediction\n",
    "    predicted_category = svc_model.predict(vectorized_text)\n",
    "\n",
    "    # get name of predicted category\n",
    "    predicted_category_name = le.inverse_transform(predicted_category)\n",
    "\n",
    "    return predicted_category_name[0]  # Return the category name"
   ]
  },
  {
   "cell_type": "code",
   "execution_count": 113,
   "id": "6d19fdbf-be09-4397-bd63-4905434f1fe7",
   "metadata": {},
   "outputs": [
    {
     "data": {
      "text/plain": [
       "'Data Science'"
      ]
     },
     "execution_count": 113,
     "metadata": {},
     "output_type": "execute_result"
    }
   ],
   "source": [
    "myresume = \"\"\"I am a data scientist specializing in machine\n",
    "learning, deep learning, and computer vision. With\n",
    "a strong background in mathematics, statistics,\n",
    "and programming, I am passionate about\n",
    "uncovering hidden patterns and insights in data.\n",
    "I have extensive experience in developing\n",
    "predictive models, implementing deep learning\n",
    "algorithms, and designing computer vision\n",
    "systems. My technical skills include proficiency in\n",
    "Python, Sklearn, TensorFlow, and PyTorch.\n",
    "What sets me apart is my ability to effectively\n",
    "communicate complex concepts to diverse\n",
    "audiences. I excel in translating technical insights\n",
    "into actionable recommendations that drive\n",
    "informed decision-making.\n",
    "If you're looking for a dedicated and versatile data\n",
    "scientist to collaborate on impactful projects, I am\n",
    "eager to contribute my expertise. Let's harness the\n",
    "power of data together to unlock new possibilities\n",
    "and shape a better future.\n",
    "Contact & Sources\n",
    "Email: 611noorsaeed@gmail.com\n",
    "Phone: 03442826192\n",
    "Github: https://github.com/611noorsaeed\n",
    "Linkdin: https://www.linkedin.com/in/noor-saeed654a23263/\n",
    "Blogs: https://medium.com/@611noorsaeed\n",
    "Youtube: Artificial Intelligence\n",
    "ABOUT ME\n",
    "WORK EXPERIENCE\n",
    "SKILLES\n",
    "NOOR SAEED\n",
    "LANGUAGES\n",
    "English\n",
    "Urdu\n",
    "Hindi\n",
    "I am a versatile data scientist with expertise in a wide\n",
    "range of projects, including machine learning,\n",
    "recommendation systems, deep learning, and computer\n",
    "vision. Throughout my career, I have successfully\n",
    "developed and deployed various machine learning models\n",
    "to solve complex problems and drive data-driven\n",
    "decision-making\n",
    "Machine Learnine\n",
    "Deep Learning\n",
    "Computer Vision\n",
    "Recommendation Systems\n",
    "Data Visualization\n",
    "Programming Languages (Python, SQL)\n",
    "Data Preprocessing and Feature Engineering\n",
    "Model Evaluation and Deployment\n",
    "Statistical Analysis\n",
    "Communication and Collaboration\n",
    "\"\"\"\n",
    "\n",
    "pred(myresume)"
   ]
  },
  {
   "cell_type": "code",
   "execution_count": 114,
   "id": "c31b0a0f-4167-40d3-9d69-56d5a2732748",
   "metadata": {},
   "outputs": [
    {
     "data": {
      "text/plain": [
       "'Health and fitness'"
      ]
     },
     "execution_count": 114,
     "metadata": {},
     "output_type": "execute_result"
    }
   ],
   "source": [
    "myresume = \"\"\"\n",
    "Jane Smith is a certified personal trainer with over 5 years of experience in helping individuals achieve their fitness goals. Specializing in weight loss, strength training, and sports conditioning, Jane has developed personalized workout routines for clients of all ages and fitness levels. She has extensive knowledge in nutrition and exercise science, and uses this to create holistic health and fitness programs that are tailored to individual needs.\n",
    "\n",
    "Jane holds a degree in Exercise Science and is a certified trainer through the National Academy of Sports Medicine (NASM). She has worked with athletes, seniors, and individuals with chronic health conditions, helping them improve their physical well-being and overall quality of life.\n",
    "\n",
    "Her expertise includes:\n",
    "- Weight Loss and Body Composition\n",
    "- Strength Training and Resistance Exercises\n",
    "- Cardio Conditioning\n",
    "- Nutrition Coaching and Meal Planning\n",
    "- Injury Prevention and Rehabilitation\n",
    "- Functional Movement and Flexibility Training\n",
    "- Group Fitness Classes\n",
    "\n",
    "Certifications:\n",
    "- Certified Personal Trainer, NASM\n",
    "- CPR and First Aid Certified\n",
    "- Yoga Instructor (200-Hour Certification)\n",
    "\n",
    "Education:\n",
    "BSc in Exercise Science, ABC University, 2014-2018\n",
    "\n",
    "Work Experience:\n",
    "- Personal Trainer at XYZ Fitness Gym (2018-Present)\n",
    "- Fitness Coach at Wellness Center (2016-2018)\n",
    "\n",
    "Languages:\n",
    "- English (Fluent)\n",
    "- Spanish (Conversational)\n",
    "\"\"\"\n",
    "\n",
    "# Now, test the model with the Health and Fitness-focused resume\n",
    "pred(myresume)"
   ]
  },
  {
   "cell_type": "code",
   "execution_count": 115,
   "id": "e5c7348e-bc6e-43e6-bcb0-64254c19ceb9",
   "metadata": {},
   "outputs": [
    {
     "data": {
      "text/plain": [
       "'Network Security Engineer'"
      ]
     },
     "execution_count": 115,
     "metadata": {},
     "output_type": "execute_result"
    }
   ],
   "source": [
    "myresume = \"\"\"\n",
    "John Doe is an experienced Network Security Engineer with over 7 years of expertise in designing, implementing, and managing network security infrastructures. Specializing in safeguarding critical network systems, John has worked with various organizations to protect against cyber threats, data breaches, and unauthorized access. He is proficient in deploying firewalls, intrusion detection systems (IDS), VPNs, and network monitoring tools to ensure the integrity and security of networks.\n",
    "\n",
    "John holds a degree in Computer Science and certifications in several cybersecurity domains, including Certified Information Systems Security Professional (CISSP), Certified Ethical Hacker (CEH), and Cisco Certified Network Associate (CCNA). He has extensive experience in troubleshooting and resolving network vulnerabilities, and has played a key role in conducting security audits and risk assessments.\n",
    "\n",
    "Key Skills:\n",
    "- Network Security Architecture\n",
    "- Firewall Management and Configuration\n",
    "- Intrusion Detection and Prevention Systems (IDS/IPS)\n",
    "- Virtual Private Networks (VPNs)\n",
    "- Security Audits and Risk Assessments\n",
    "- Cybersecurity Incident Response\n",
    "- Network Monitoring and Traffic Analysis\n",
    "- Vulnerability Assessment and Penetration Testing\n",
    "- Data Encryption and Secure Communications\n",
    "\n",
    "Certifications:\n",
    "- CISSP (Certified Information Systems Security Professional)\n",
    "- CEH (Certified Ethical Hacker)\n",
    "- CCNA (Cisco Certified Network Associate)\n",
    "- CompTIA Security+\n",
    "\n",
    "Education:\n",
    "BSc in Computer Science, XYZ University, 2012-2016\n",
    "\n",
    "Professional Experience:\n",
    "- Network Security Engineer at ABC Corp (2016-Present)\n",
    "- IT Security Specialist at DEF Solutions (2014-2016)\n",
    "\n",
    "Languages:\n",
    "- English (Fluent)\n",
    "- French (Intermediate)\n",
    "\"\"\"\n",
    "\n",
    "# Now, test the model with the Network Security Engineer-focused resume\n",
    "pred(myresume)"
   ]
  },
  {
   "cell_type": "code",
   "execution_count": 116,
   "id": "6a669182-7cca-408e-af52-1655edcc9040",
   "metadata": {},
   "outputs": [
    {
     "data": {
      "text/plain": [
       "'Advocate'"
      ]
     },
     "execution_count": 116,
     "metadata": {},
     "output_type": "execute_result"
    }
   ],
   "source": [
    "myresume = \"\"\"\n",
    "Sarah Williams is a dedicated and skilled advocate with over 10 years of experience in providing legal representation to clients across various sectors, including criminal law, civil litigation, and family law. With a deep understanding of legal procedures and case law, Sarah has successfully handled numerous cases in the courtroom, negotiating favorable settlements and providing expert legal advice to individuals and businesses.\n",
    "\n",
    "She holds a law degree from XYZ University and is a licensed attorney, practicing law in multiple jurisdictions. Sarah is passionate about ensuring justice is served and strives to make legal processes more accessible to her clients. She is known for her excellent research and analytical skills, attention to detail, and commitment to upholding the law with integrity.\n",
    "\n",
    "Key Skills:\n",
    "- Criminal Law\n",
    "- Civil Litigation\n",
    "- Family Law\n",
    "- Contract Law\n",
    "- Legal Research and Writing\n",
    "- Courtroom Advocacy\n",
    "- Legal Counseling and Advice\n",
    "- Client Relationship Management\n",
    "- Legal Compliance and Regulations\n",
    "- Negotiation and Settlement\n",
    "\n",
    "Certifications and Licenses:\n",
    "- Licensed Attorney at Law, XYZ State Bar\n",
    "- Certification in Criminal Law, XYZ University\n",
    "\n",
    "Education:\n",
    "JD in Law, XYZ University, 2010-2013\n",
    "\n",
    "Professional Experience:\n",
    "- Senior Advocate at ABC Law Firm (2016-Present)\n",
    "- Associate Advocate at DEF Legal Group (2013-2016)\n",
    "\n",
    "Languages:\n",
    "- English (Fluent)\n",
    "- Spanish (Conversational)\n",
    "\"\"\"\n",
    "\n",
    "# Now, test the model with the Advocate-focused resume\n",
    "pred(myresume)"
   ]
  },
  {
   "cell_type": "code",
   "execution_count": null,
   "id": "e42488f7-80f0-40b6-b0d5-1368ba81deac",
   "metadata": {},
   "outputs": [],
   "source": []
  }
 ],
 "metadata": {
  "kernelspec": {
   "display_name": "Python 3 (ipykernel)",
   "language": "python",
   "name": "python3"
  },
  "language_info": {
   "codemirror_mode": {
    "name": "ipython",
    "version": 3
   },
   "file_extension": ".py",
   "mimetype": "text/x-python",
   "name": "python",
   "nbconvert_exporter": "python",
   "pygments_lexer": "ipython3",
   "version": "3.13.5"
  }
 },
 "nbformat": 4,
 "nbformat_minor": 5
}
